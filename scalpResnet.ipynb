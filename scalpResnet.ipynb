{
  "nbformat": 4,
  "nbformat_minor": 0,
  "metadata": {
    "colab": {
      "name": "scalpResnet.ipynb",
      "provenance": [],
      "collapsed_sections": [],
      "include_colab_link": true
    },
    "kernelspec": {
      "name": "python3",
      "display_name": "Python 3"
    },
    "accelerator": "GPU"
  },
  "cells": [
    {
      "cell_type": "markdown",
      "metadata": {
        "id": "view-in-github",
        "colab_type": "text"
      },
      "source": [
        "<a href=\"https://colab.research.google.com/github/younghwani/ScalpProject/blob/master/scalpResnet.ipynb\" target=\"_parent\"><img src=\"https://colab.research.google.com/assets/colab-badge.svg\" alt=\"Open In Colab\"/></a>"
      ]
    },
    {
      "cell_type": "code",
      "metadata": {
        "id": "GO3YYIMCMPo2"
      },
      "source": [
        "from google.colab import drive\n",
        "drive.mount('/content/drive')"
      ],
      "execution_count": null,
      "outputs": []
    },
    {
      "cell_type": "code",
      "metadata": {
        "id": "dDjcEDgcMQWg"
      },
      "source": [
        "import shutil\n",
        "# Data file copy (from drive to colab kernel)\n",
        "original_data_path = '/content/drive/MyDrive/Data/scalp.zip'\n",
        "new_data_path = '/content'\n",
        "\n",
        "shutil.copy(original_data_path, new_data_path)"
      ],
      "execution_count": null,
      "outputs": []
    },
    {
      "cell_type": "code",
      "metadata": {
        "id": "DqTQz-WcMQTs"
      },
      "source": [
        "import zipfile\n",
        "# Unzip\n",
        "path_to_zip_file = '/content/scalp.zip'\n",
        "directory_to_extract_to = '/content'\n",
        "\n",
        "with zipfile.ZipFile(path_to_zip_file, 'r') as zip_ref:\n",
        "    zip_ref.extractall(directory_to_extract_to)"
      ],
      "execution_count": null,
      "outputs": []
    },
    {
      "cell_type": "code",
      "metadata": {
        "id": "rHy6IwOiRzOV"
      },
      "source": [
        "#check whether you are using GPU\n",
        "import tensorflow as tf\n",
        "tf.test.gpu_device_name()"
      ],
      "execution_count": null,
      "outputs": []
    },
    {
      "cell_type": "code",
      "metadata": {
        "id": "Fk1a8oxuEhZG"
      },
      "source": [
        "# !pip install -U coremltools"
      ],
      "execution_count": null,
      "outputs": []
    },
    {
      "cell_type": "code",
      "metadata": {
        "id": "9GtHe4KpR4Jh"
      },
      "source": [
        "from tensorflow.keras.applications.resnet50 import ResNet50\n",
        "from tensorflow.keras.models import Model,load_model\n",
        "from tensorflow.keras.layers import Dense,GlobalAveragePooling2D,Input\n",
        "from tensorflow.keras.preprocessing.image import ImageDataGenerator\n",
        "from tensorflow.keras.optimizers import Adadelta\n",
        "from tensorflow.keras.callbacks import ModelCheckpoint, EarlyStopping\n",
        "import keras\n",
        "import math, os, sys\n",
        "import matplotlib.pyplot as plt\n",
        "# import coremltools"
      ],
      "execution_count": null,
      "outputs": []
    },
    {
      "cell_type": "code",
      "metadata": {
        "id": "fIY2vRbwjLnD"
      },
      "source": [
        "def get_model():\n",
        "    input_tensor = Input(shape=(224, 224, 3))\n",
        "\n",
        "    # base pre-trained model\n",
        "    base_model = ResNet50(input_tensor=input_tensor,weights='imagenet',include_top=False)\n",
        "\n",
        "    for layer in base_model.layers:\n",
        "        layer.trainable=False\n",
        "\n",
        "    x = base_model.output\n",
        "    x = GlobalAveragePooling2D(data_format='channels_last')(x)\n",
        "    x = Dense(num_classes, activation='softmax')(x)\n",
        "\n",
        "    updatedModel = Model(base_model.input, x)\n",
        "\n",
        "    return  updatedModel\n",
        "\n",
        "def compile_model(compiledModel):\n",
        "    compiledModel.compile(loss=keras.losses.categorical_crossentropy,\n",
        "                  optimizer=Adadelta(),\n",
        "                  metrics=['accuracy'])\n",
        "\n",
        "def modelFitGenerator(fitModel):\n",
        "    num_train_samples = sum([len(files) for r, d, files in os.walk(train_data_dir)])\n",
        "    num_valid_samples = sum([len(files) for r, d, files in os.walk(validation_data_dir)])\n",
        "\n",
        "    num_train_steps = math.floor(num_train_samples/batch_size)\n",
        "    num_valid_steps = math.floor(num_valid_samples/batch_size)\n",
        "    \n",
        "    train_datagen = ImageDataGenerator(  \n",
        "      rotation_range=90,      \n",
        "      horizontal_flip=True,    \n",
        "      vertical_flip=True,\n",
        "      zoom_range=0.4)\n",
        "\n",
        "    test_datagen = ImageDataGenerator()\n",
        "\n",
        "    train_generator = train_datagen.flow_from_directory(\n",
        "      train_data_dir,\n",
        "      target_size=image_size ,\n",
        "      batch_size=batch_size,\n",
        "      class_mode='categorical', shuffle=True\n",
        "    )\n",
        "\n",
        "    validation_generator = test_datagen.flow_from_directory(\n",
        "      validation_data_dir,\n",
        "      target_size=image_size ,\n",
        "      batch_size=batch_size,\n",
        "      class_mode='categorical', shuffle=True\n",
        "    )\n",
        "\n",
        "    checkpoint = ModelCheckpoint(\"resnet50.h5\", \n",
        "                                monitor='val_accuracy', \n",
        "                                verbose=1, \n",
        "                                save_best_only=True, \n",
        "                                save_weights_only=False, \n",
        "                                mode='auto', \n",
        "                                period=1)\n",
        "    early = EarlyStopping(monitor='val_accuracy', \n",
        "                          min_delta=0, \n",
        "                          patience=10, \n",
        "                          verbose=1, \n",
        "                          mode='auto')\n",
        "\n",
        "    print(\"start history model\")\n",
        "    history = fitModel.fit_generator(\n",
        "      train_generator,\n",
        "      steps_per_epoch=num_train_steps,\n",
        "      epochs=nb_epoch,\n",
        "      validation_data=validation_generator,\n",
        "      validation_steps=num_valid_steps,\n",
        "      callbacks=[checkpoint,early])\n",
        "\n",
        "# def saveCoreMLModel(kerasModel):\n",
        "#     coreml_model = coremltools.converters.keras.convert(kerasModel,\n",
        "#                                                     input_names=['input'],\n",
        "#                                                     output_names=['probs'],\n",
        "#                                                     image_input_names='input',\n",
        "#                                                     predicted_feature_name='predictedMoney',\n",
        "#                                                     class_labels = 'drive/Resnet/labels.txt')\n",
        "#     coreml_model.save('resnet50custom.mlmodel') \n",
        "#     print('CoreML model saved')\n",
        "    \n",
        "def main():\n",
        "    model = get_model()\n",
        "    compile_model(model)\n",
        "    modelFitGenerator(model)\n",
        "    # saveCoreMLModel(model)\n",
        "    model.save('scalpResnetModel')"
      ],
      "execution_count": null,
      "outputs": []
    },
    {
      "cell_type": "code",
      "metadata": {
        "id": "qu6Ok0EmR-wF"
      },
      "source": [
        "if __name__ == '__main__':\n",
        "    # constants\n",
        "    image_size = (224, 224)\n",
        "    train_data_dir = '/content/scalp/Training'\n",
        "    validation_data_dir = '/content/scalp/Validation'\n",
        "    nb_epoch = 100\n",
        "    batch_size = 16\n",
        "    num_classes = 7\n",
        "    main()"
      ],
      "execution_count": null,
      "outputs": []
    },
    {
      "cell_type": "code",
      "metadata": {
        "id": "zpK6kDdEXQut"
      },
      "source": [
        "# Model BackUp\n",
        "h5Path = '/content/resnet50.h5'\n",
        "destination = '/content/drive/MyDrive'\n",
        "\n",
        "shutil.copy(h5Path, destination)"
      ],
      "execution_count": null,
      "outputs": []
    },
    {
      "cell_type": "code",
      "metadata": {
        "id": "c_XByjnvmcdt"
      },
      "source": [
        "from distutils.dir_util import copy_tree\n",
        "\n",
        "modelPath = '/content/scalpResnetModel'\n",
        "destination = '/content/drive/MyDrive/scalpResnetModel'\n",
        "\n",
        "copy_tree(modelPath, destination)"
      ],
      "execution_count": null,
      "outputs": []
    },
    {
      "cell_type": "code",
      "metadata": {
        "id": "e3tD9PfHxwS9"
      },
      "source": [
        "# from google.colab import files\n",
        "# files.download('resnet50custom.mlmodel') "
      ],
      "execution_count": null,
      "outputs": []
    },
    {
      "cell_type": "markdown",
      "source": [
        "- colab kernel"
      ],
      "metadata": {
        "id": "1B-mtA5kOCN-"
      }
    },
    {
      "cell_type": "markdown",
      "metadata": {
        "id": "QwFVeOYC0rrQ"
      },
      "source": [
        "~~~\n",
        "function ClickConnect(){\n",
        "console.log(\"Working\"); \n",
        "document.querySelector(\"colab-toolbar-button\").click() \n",
        "}setInterval(ClickConnect, 1800000)\n",
        "~~~"
      ]
    }
  ]
}