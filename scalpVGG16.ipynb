{
  "nbformat": 4,
  "nbformat_minor": 0,
  "metadata": {
    "colab": {
      "name": "scalpVGG16.ipynb",
      "provenance": [],
      "collapsed_sections": [],
      "authorship_tag": "ABX9TyPgoQGSt+9sZWVKetvqr68L",
      "include_colab_link": true
    },
    "kernelspec": {
      "name": "python3",
      "display_name": "Python 3"
    },
    "language_info": {
      "name": "python"
    }
  },
  "cells": [
    {
      "cell_type": "markdown",
      "metadata": {
        "id": "view-in-github",
        "colab_type": "text"
      },
      "source": [
        "<a href=\"https://colab.research.google.com/github/younghwani/ScalpProject/blob/master/scalpVGG16.ipynb\" target=\"_parent\"><img src=\"https://colab.research.google.com/assets/colab-badge.svg\" alt=\"Open In Colab\"/></a>"
      ]
    },
    {
      "cell_type": "markdown",
      "metadata": {
        "id": "R_bxNjmJHs0q"
      },
      "source": [
        "## VGG16"
      ]
    },
    {
      "cell_type": "markdown",
      "metadata": {
        "id": "EfvKQUxFH4bw"
      },
      "source": [
        "### Library"
      ]
    },
    {
      "cell_type": "code",
      "metadata": {
        "id": "ZZxujb0VoVSc"
      },
      "source": [
        "import os\n",
        "import keras\n",
        "from keras.models import Sequential\n",
        "from keras.layers import Dense, Conv2D, MaxPool2D , Flatten\n",
        "from keras.preprocessing.image import ImageDataGenerator\n",
        "import numpy as np\n",
        "import tensorflow as tf\n",
        "\n",
        "import shutil\n",
        "import glob\n",
        "import pandas as pd\n",
        "import matplotlib.pyplot as plt\n",
        "from PIL import Image\n",
        "import zipfile"
      ],
      "execution_count": null,
      "outputs": []
    },
    {
      "cell_type": "markdown",
      "metadata": {
        "id": "NGlG9UlIH9Q4"
      },
      "source": [
        "### Data"
      ]
    },
    {
      "cell_type": "code",
      "metadata": {
        "id": "ocOGD0NAH84j"
      },
      "source": [
        "from google.colab import drive\n",
        "drive.mount('/content/drive')"
      ],
      "execution_count": null,
      "outputs": []
    },
    {
      "cell_type": "code",
      "metadata": {
        "id": "8WKZkM3WH4zI"
      },
      "source": [
        "# Data file copy (from drive to colab kernel)\n",
        "original_data_path = '/content/drive/MyDrive/Data/HairLossData.zip'\n",
        "new_data_path = '/content'\n",
        "\n",
        "shutil.copy(original_data_path, new_data_path)"
      ],
      "execution_count": null,
      "outputs": []
    },
    {
      "cell_type": "code",
      "metadata": {
        "id": "Zg18OVO8H5lN"
      },
      "source": [
        "# Unzip\n",
        "path_to_zip_file = '/content/HairLossData.zip'\n",
        "directory_to_extract_to = '/content'\n",
        "\n",
        "with zipfile.ZipFile(path_to_zip_file, 'r') as zip_ref:\n",
        "    zip_ref.extractall(directory_to_extract_to)"
      ],
      "execution_count": null,
      "outputs": []
    },
    {
      "cell_type": "code",
      "metadata": {
        "id": "63t9TK1tIY0u"
      },
      "source": [
        "trainDataPath = '/content/HairLossData/Training/image'\n",
        "validDataPath = '/content/HairLossData/Validation/image'\n",
        "\n",
        "trData = ImageDataGenerator()\n",
        "trainData = trData.flow_from_directory(directory=trainDataPath, target_size=(224,224))\n",
        "valData = ImageDataGenerator()\n",
        "validData = valData.flow_from_directory(directory=validDataPath, target_size=(224,224))"
      ],
      "execution_count": null,
      "outputs": []
    },
    {
      "cell_type": "markdown",
      "metadata": {
        "id": "M1JoiIUtIAun"
      },
      "source": [
        "### Model"
      ]
    },
    {
      "cell_type": "code",
      "metadata": {
        "id": "FD7nyKS-H5ij"
      },
      "source": [
        "model = Sequential()\n",
        "# Conv2D * 2 (64 channel)\n",
        "model.add(Conv2D(input_shape=(224,224,3),filters=64,kernel_size=(3,3),padding=\"same\", activation=\"relu\"))\n",
        "model.add(Conv2D(filters=64,kernel_size=(3,3),padding=\"same\", activation=\"relu\"))\n",
        "# MaxPool2D (2 * 2)\n",
        "model.add(MaxPool2D(pool_size=(2,2),strides=(2,2)))\n",
        "# Conv2D * 2 (128 channel)\n",
        "model.add(Conv2D(filters=128, kernel_size=(3,3), padding=\"same\", activation=\"relu\"))\n",
        "model.add(Conv2D(filters=128, kernel_size=(3,3), padding=\"same\", activation=\"relu\"))\n",
        "# MaxPool2D (2 * 2)\n",
        "model.add(MaxPool2D(pool_size=(2,2),strides=(2,2)))\n",
        "# Conv2D * 3 (256 channel)\n",
        "model.add(Conv2D(filters=256, kernel_size=(3,3), padding=\"same\", activation=\"relu\"))\n",
        "model.add(Conv2D(filters=256, kernel_size=(3,3), padding=\"same\", activation=\"relu\"))\n",
        "model.add(Conv2D(filters=256, kernel_size=(3,3), padding=\"same\", activation=\"relu\"))\n",
        "# MaxPool2D (2 * 2)\n",
        "model.add(MaxPool2D(pool_size=(2,2),strides=(2,2)))\n",
        "# Conv2D * 3 (512 channel)\n",
        "model.add(Conv2D(filters=512, kernel_size=(3,3), padding=\"same\", activation=\"relu\"))\n",
        "model.add(Conv2D(filters=512, kernel_size=(3,3), padding=\"same\", activation=\"relu\"))\n",
        "model.add(Conv2D(filters=512, kernel_size=(3,3), padding=\"same\", activation=\"relu\"))\n",
        "# MaxPool2D (2 * 2)\n",
        "model.add(MaxPool2D(pool_size=(2,2),strides=(2,2)))\n",
        "# Conv2D * 3 (512 channel)\n",
        "model.add(Conv2D(filters=512, kernel_size=(3,3), padding=\"same\", activation=\"relu\"))\n",
        "model.add(Conv2D(filters=512, kernel_size=(3,3), padding=\"same\", activation=\"relu\"))\n",
        "model.add(Conv2D(filters=512, kernel_size=(3,3), padding=\"same\", activation=\"relu\"))\n",
        "# MaxPool2D (2 * 2)\n",
        "model.add(MaxPool2D(pool_size=(2,2),strides=(2,2)))\n",
        "# Flatten\n",
        "model.add(Flatten())\n",
        "# Dense * 2 (4096)\n",
        "model.add(Dense(units=4096,activation=\"relu\"))\n",
        "model.add(Dense(units=4096,activation=\"relu\"))\n",
        "# Dense (output, softmax)\n",
        "model.add(Dense(units=4, activation=\"softmax\"))"
      ],
      "execution_count": null,
      "outputs": []
    },
    {
      "cell_type": "code",
      "metadata": {
        "id": "-cyz4md6H5fw"
      },
      "source": [
        "opt = tf.keras.optimizers.Adam(lr=0.001)\n",
        "model.compile(optimizer=opt, \n",
        "              loss=keras.losses.categorical_crossentropy, \n",
        "              metrics=['accuracy'])"
      ],
      "execution_count": null,
      "outputs": []
    },
    {
      "cell_type": "code",
      "metadata": {
        "id": "xVdgD-NJH5dB"
      },
      "source": [
        "model.summary()"
      ],
      "execution_count": null,
      "outputs": []
    },
    {
      "cell_type": "code",
      "metadata": {
        "id": "O1jOiVtwMcpr"
      },
      "source": [
        "from keras.callbacks import ModelCheckpoint, EarlyStopping\n",
        "checkpoint = ModelCheckpoint(\"vgg16_1.h5\", \n",
        "                             monitor='val_acc', \n",
        "                             verbose=1, \n",
        "                             save_best_only=True, \n",
        "                             save_weights_only=False, \n",
        "                             mode='auto', \n",
        "                             period=1)\n",
        "early = EarlyStopping(monitor='val_acc', \n",
        "                      min_delta=0, \n",
        "                      patience=20, \n",
        "                      verbose=1, \n",
        "                      mode='auto')\n",
        "# ImageDataGenerator를 사용하여 데이터를 전달하므로 model.fit_generator를 사용한다.\n",
        "hist = model.fit_generator(steps_per_epoch=100,\n",
        "                           generator=trainData, \n",
        "                           validation_data= validData, \n",
        "                           validation_steps=10,\n",
        "                           epochs=100,\n",
        "                           callbacks=[checkpoint,early])"
      ],
      "execution_count": null,
      "outputs": []
    },
    {
      "cell_type": "code",
      "metadata": {
        "id": "9TauoryiejaI"
      },
      "source": [
        "model.save_weights(\"vgg16_1.h5\")"
      ],
      "execution_count": null,
      "outputs": []
    },
    {
      "cell_type": "code",
      "metadata": {
        "id": "XHWS01J7fT0E"
      },
      "source": [
        "shutil.copy(\"vgg16_1.h5\", \"/content/drive/MyDrive\")"
      ],
      "execution_count": null,
      "outputs": []
    },
    {
      "cell_type": "code",
      "metadata": {
        "id": "eBP1REGPNmiE"
      },
      "source": [
        "plt.plot(hist.history[\"acc\"])\n",
        "plt.plot(hist.history['val_acc'])\n",
        "plt.plot(hist.history['loss'])\n",
        "plt.plot(hist.history['val_loss'])\n",
        "plt.title(\"model accuracy\")\n",
        "plt.ylabel(\"Accuracy\")\n",
        "plt.xlabel(\"Epoch\")\n",
        "plt.legend([\"Accuracy\",\"Validation Accuracy\",\"loss\",\"Validation Loss\"])\n",
        "plt.show()"
      ],
      "execution_count": null,
      "outputs": []
    },
    {
      "cell_type": "markdown",
      "metadata": {
        "id": "8tlTcNWVIEnp"
      },
      "source": [
        "### Predict"
      ]
    },
    {
      "cell_type": "code",
      "metadata": {
        "id": "fKT6rbiRH5Z-"
      },
      "source": [
        "from keras.preprocessing import image\n",
        "img = image.load_img(\"image.jpeg\",target_size=(224,224))\n",
        "img = np.asarray(img)\n",
        "plt.imshow(img)\n",
        "img = np.expand_dims(img, axis=0)\n",
        "from keras.models import load_model\n",
        "saved_model = load_model(\"vgg16_1.h5\")\n",
        "output = saved_model.predict(img)"
      ],
      "execution_count": null,
      "outputs": []
    }
  ]
}